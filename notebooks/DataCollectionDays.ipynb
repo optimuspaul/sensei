{
 "cells": [
  {
   "cell_type": "code",
   "execution_count": 1,
   "metadata": {
    "collapsed": true
   },
   "outputs": [],
   "source": [
    "import pandas as pd\n"
   ]
  },
  {
   "cell_type": "code",
   "execution_count": 2,
   "metadata": {},
   "outputs": [
    {
     "data": {
      "text/html": [
       "<div>\n",
       "<style>\n",
       "    .dataframe thead tr:only-child th {\n",
       "        text-align: right;\n",
       "    }\n",
       "\n",
       "    .dataframe thead th {\n",
       "        text-align: left;\n",
       "    }\n",
       "\n",
       "    .dataframe tbody tr th {\n",
       "        vertical-align: top;\n",
       "    }\n",
       "</style>\n",
       "<table border=\"1\" class=\"dataframe\">\n",
       "  <thead>\n",
       "    <tr style=\"text-align: right;\">\n",
       "      <th></th>\n",
       "      <th>classroom_id</th>\n",
       "      <th>ob_count</th>\n",
       "    </tr>\n",
       "    <tr>\n",
       "      <th>date</th>\n",
       "      <th></th>\n",
       "      <th></th>\n",
       "    </tr>\n",
       "  </thead>\n",
       "  <tbody>\n",
       "    <tr>\n",
       "      <th>1952-06-23</th>\n",
       "      <td>735</td>\n",
       "      <td>16</td>\n",
       "    </tr>\n",
       "    <tr>\n",
       "      <th>1952-06-23</th>\n",
       "      <td>725</td>\n",
       "      <td>1</td>\n",
       "    </tr>\n",
       "    <tr>\n",
       "      <th>1970-01-08</th>\n",
       "      <td>735</td>\n",
       "      <td>2</td>\n",
       "    </tr>\n",
       "    <tr>\n",
       "      <th>1970-07-22</th>\n",
       "      <td>725</td>\n",
       "      <td>592</td>\n",
       "    </tr>\n",
       "    <tr>\n",
       "      <th>1974-04-10</th>\n",
       "      <td>725</td>\n",
       "      <td>16</td>\n",
       "    </tr>\n",
       "  </tbody>\n",
       "</table>\n",
       "</div>"
      ],
      "text/plain": [
       "            classroom_id  ob_count\n",
       "date                              \n",
       "1952-06-23           735        16\n",
       "1952-06-23           725         1\n",
       "1970-01-08           735         2\n",
       "1970-07-22           725       592\n",
       "1974-04-10           725        16"
      ]
     },
     "execution_count": 2,
     "metadata": {},
     "output_type": "execute_result"
    }
   ],
   "source": [
    "# Extract data from sensor database:\n",
    "# \\copy (select date(observed_at),classroom_id,count(observed_at) as ob_count from radio_observation group by classroom_id, date(observed_at) order by date(observed_at)) To 'daily_records.csv' With CSV HEADER;\n",
    "df = pd.read_csv('daily_records.csv',index_col=0,parse_dates=True)\n",
    "df.head()"
   ]
  },
  {
   "cell_type": "code",
   "execution_count": 3,
   "metadata": {},
   "outputs": [
    {
     "data": {
      "text/plain": [
       "array([ 735,  725,  676, 1289])"
      ]
     },
     "execution_count": 3,
     "metadata": {},
     "output_type": "execute_result"
    }
   ],
   "source": [
    "df.classroom_id.unique()"
   ]
  },
  {
   "cell_type": "code",
   "execution_count": 4,
   "metadata": {},
   "outputs": [
    {
     "name": "stdout",
     "output_type": "stream",
     "text": [
      "Classroom 725 = 65/37, 56.923077%\n",
      "Classroom 676 = 50/17, 34.000000%\n",
      "Classroom 1289 = 38/7, 18.421053%\n",
      "Total: 61/153 = 39.869281%\n"
     ]
    }
   ],
   "source": [
    "total_days = 0\n",
    "data_days = 0\n",
    "for classroom in df.classroom_id.unique():\n",
    "    if classroom == 735:  # Skip sandbox classroom\n",
    "        continue\n",
    "    room_data = df[df.classroom_id == classroom]\n",
    "    del room_data['classroom_id']\n",
    "    room_data = room_data[room_data.ob_count > 1000]\n",
    "    start_date = room_data.index[0]\n",
    "    end_date = room_data.index[-1]\n",
    "    all_dates = pd.date_range(start_date, end_date)\n",
    "    week_days = all_dates[all_dates.weekday < 5]\n",
    "    room_data = room_data.reindex(week_days, fill_value=0)\n",
    "    total_days += len(room_data)\n",
    "    classroom_data_days = len(room_data[room_data.ob_count > 0])\n",
    "    data_days += classroom_data_days\n",
    "    pct = classroom_data_days / len(room_data) * 100\n",
    "    print(\"Classroom %d = %d/%d, %f%%\" % (classroom, len(room_data), classroom_data_days, pct))\n",
    "    #print(room_data.head(20))\n",
    "    \n",
    "print(\"Total: %d/%d = %f%%\" % (data_days, total_days, float(data_days)/total_days * 100))\n",
    "    "
   ]
  }
 ],
 "metadata": {
  "kernelspec": {
   "display_name": "Python 3",
   "language": "python",
   "name": "python3"
  },
  "language_info": {
   "codemirror_mode": {
    "name": "ipython",
    "version": 3
   },
   "file_extension": ".py",
   "mimetype": "text/x-python",
   "name": "python",
   "nbconvert_exporter": "python",
   "pygments_lexer": "ipython3",
   "version": "3.6.1"
  }
 },
 "nbformat": 4,
 "nbformat_minor": 2
}
