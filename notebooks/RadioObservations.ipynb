{
 "cells": [
  {
   "cell_type": "code",
   "execution_count": 1,
   "metadata": {
    "collapsed": false
   },
   "outputs": [
    {
     "name": "stdout",
     "output_type": "stream",
     "text": [
      "[u'entities', u'obs', u'timestamps']\n"
     ]
    }
   ],
   "source": [
    "import json\n",
    "import urllib, urllib2, base64\n",
    "%matplotlib inline\n",
    "import matplotlib.pyplot as plt\n",
    "import pandas as pd\n",
    "import numpy as np\n",
    "from dateutil import parser\n",
    "\n",
    "SENSEI_SERVER = 'http://localhost:5000/'\n",
    "SENSEI_API = SENSEI_SERVER + 'api/v1/'\n",
    "SENSEI_USER = 'super@example.com'\n",
    "SENSEI_PASSWORD = 'password'\n",
    "CLASSROOM_ID = 1\n",
    "CHILD_ID = 1\n",
    "\n",
    "def api_req(endpoint, params=None):\n",
    "    url = SENSEI_API + endpoint\n",
    "    if params:\n",
    "        url += '?' + urllib.urlencode(params)\n",
    "    req = urllib2.Request(url)\n",
    "    base64string = base64.b64encode('%s:%s' % (SENSEI_USER, SENSEI_PASSWORD))\n",
    "    req.add_header(\"Authorization\", \"Basic %s\" % base64string)\n",
    "    req.add_header('Content-Type', 'application/json')\n",
    "    return req\n",
    "\n",
    "params = {\n",
    "    'classroom_id': CLASSROOM_ID,\n",
    "    'child_id':     CHILD_ID,\n",
    "    'start_time':   '2017-1-10T00:00:00',\n",
    "    'end_time':     '2017-1-20T00:00:00'\n",
    "}\n",
    "req = api_req('radio_observations', params)\n",
    "response = urllib2.urlopen(req)\n",
    "data = json.loads(response.read())\n",
    "print data.keys()"
   ]
  },
  {
   "cell_type": "code",
   "execution_count": 2,
   "metadata": {
    "collapsed": false
   },
   "outputs": [
    {
     "name": "stdout",
     "output_type": "stream",
     "text": [
      "(1033, 17)\n"
     ]
    }
   ],
   "source": [
    "data3d = np.transpose(np.array(data['obs']))\n",
    "print data3d[0,:,:].shape"
   ]
  },
  {
   "cell_type": "code",
   "execution_count": 3,
   "metadata": {
    "collapsed": false
   },
   "outputs": [
    {
     "data": {
      "text/html": [
       "<div>\n",
       "<table border=\"1\" class=\"dataframe\">\n",
       "  <thead>\n",
       "    <tr style=\"text-align: right;\">\n",
       "      <th></th>\n",
       "      <th>child_2</th>\n",
       "      <th>child_3</th>\n",
       "      <th>child_4</th>\n",
       "      <th>child_5</th>\n",
       "      <th>child_6</th>\n",
       "      <th>child_7</th>\n",
       "      <th>material_1</th>\n",
       "      <th>material_2</th>\n",
       "      <th>material_3</th>\n",
       "      <th>material_4</th>\n",
       "      <th>material_5</th>\n",
       "      <th>material_6</th>\n",
       "      <th>material_7</th>\n",
       "      <th>material_8</th>\n",
       "      <th>material_9</th>\n",
       "      <th>material_10</th>\n",
       "      <th>teacher_3</th>\n",
       "    </tr>\n",
       "  </thead>\n",
       "  <tbody>\n",
       "    <tr>\n",
       "      <th>2017-01-10 08:00:00.011109</th>\n",
       "      <td>-85.43</td>\n",
       "      <td>-84.71</td>\n",
       "      <td>0.00</td>\n",
       "      <td>-97.75</td>\n",
       "      <td>-85.85</td>\n",
       "      <td>0.00</td>\n",
       "      <td>-109.43</td>\n",
       "      <td>-95.39</td>\n",
       "      <td>-81.77</td>\n",
       "      <td>-80.68</td>\n",
       "      <td>-88.97</td>\n",
       "      <td>-79.91</td>\n",
       "      <td>-97.57</td>\n",
       "      <td>-83.39</td>\n",
       "      <td>0.00</td>\n",
       "      <td>0.00</td>\n",
       "      <td>-92.53</td>\n",
       "    </tr>\n",
       "    <tr>\n",
       "      <th>2017-01-10 08:00:10.011109</th>\n",
       "      <td>0.00</td>\n",
       "      <td>-74.50</td>\n",
       "      <td>-94.28</td>\n",
       "      <td>-88.79</td>\n",
       "      <td>-78.64</td>\n",
       "      <td>-91.97</td>\n",
       "      <td>-86.31</td>\n",
       "      <td>-95.57</td>\n",
       "      <td>0.00</td>\n",
       "      <td>0.00</td>\n",
       "      <td>-82.57</td>\n",
       "      <td>-85.74</td>\n",
       "      <td>0.00</td>\n",
       "      <td>-87.04</td>\n",
       "      <td>-96.12</td>\n",
       "      <td>-96.38</td>\n",
       "      <td>-103.26</td>\n",
       "    </tr>\n",
       "    <tr>\n",
       "      <th>2017-01-10 08:00:20.011109</th>\n",
       "      <td>-85.30</td>\n",
       "      <td>-76.46</td>\n",
       "      <td>0.00</td>\n",
       "      <td>-100.64</td>\n",
       "      <td>-77.06</td>\n",
       "      <td>-89.86</td>\n",
       "      <td>-90.93</td>\n",
       "      <td>-82.22</td>\n",
       "      <td>0.00</td>\n",
       "      <td>-90.38</td>\n",
       "      <td>-95.52</td>\n",
       "      <td>0.00</td>\n",
       "      <td>-81.07</td>\n",
       "      <td>0.00</td>\n",
       "      <td>0.00</td>\n",
       "      <td>-89.52</td>\n",
       "      <td>-100.01</td>\n",
       "    </tr>\n",
       "    <tr>\n",
       "      <th>2017-01-10 08:00:30.011109</th>\n",
       "      <td>-83.56</td>\n",
       "      <td>-82.18</td>\n",
       "      <td>-96.94</td>\n",
       "      <td>-102.70</td>\n",
       "      <td>-90.13</td>\n",
       "      <td>0.00</td>\n",
       "      <td>0.00</td>\n",
       "      <td>-86.49</td>\n",
       "      <td>-85.40</td>\n",
       "      <td>-87.55</td>\n",
       "      <td>-83.27</td>\n",
       "      <td>-82.17</td>\n",
       "      <td>0.00</td>\n",
       "      <td>0.00</td>\n",
       "      <td>0.00</td>\n",
       "      <td>0.00</td>\n",
       "      <td>-88.36</td>\n",
       "    </tr>\n",
       "    <tr>\n",
       "      <th>2017-01-10 08:00:40.011109</th>\n",
       "      <td>-82.71</td>\n",
       "      <td>-77.83</td>\n",
       "      <td>0.00</td>\n",
       "      <td>-101.85</td>\n",
       "      <td>-93.20</td>\n",
       "      <td>-99.96</td>\n",
       "      <td>0.00</td>\n",
       "      <td>-87.06</td>\n",
       "      <td>0.00</td>\n",
       "      <td>-98.86</td>\n",
       "      <td>-83.05</td>\n",
       "      <td>-92.96</td>\n",
       "      <td>-87.35</td>\n",
       "      <td>-88.62</td>\n",
       "      <td>0.00</td>\n",
       "      <td>-93.31</td>\n",
       "      <td>0.00</td>\n",
       "    </tr>\n",
       "  </tbody>\n",
       "</table>\n",
       "</div>"
      ],
      "text/plain": [
       "                            child_2  child_3  child_4  child_5  child_6  \\\n",
       "2017-01-10 08:00:00.011109   -85.43   -84.71     0.00   -97.75   -85.85   \n",
       "2017-01-10 08:00:10.011109     0.00   -74.50   -94.28   -88.79   -78.64   \n",
       "2017-01-10 08:00:20.011109   -85.30   -76.46     0.00  -100.64   -77.06   \n",
       "2017-01-10 08:00:30.011109   -83.56   -82.18   -96.94  -102.70   -90.13   \n",
       "2017-01-10 08:00:40.011109   -82.71   -77.83     0.00  -101.85   -93.20   \n",
       "\n",
       "                            child_7  material_1  material_2  material_3  \\\n",
       "2017-01-10 08:00:00.011109     0.00     -109.43      -95.39      -81.77   \n",
       "2017-01-10 08:00:10.011109   -91.97      -86.31      -95.57        0.00   \n",
       "2017-01-10 08:00:20.011109   -89.86      -90.93      -82.22        0.00   \n",
       "2017-01-10 08:00:30.011109     0.00        0.00      -86.49      -85.40   \n",
       "2017-01-10 08:00:40.011109   -99.96        0.00      -87.06        0.00   \n",
       "\n",
       "                            material_4  material_5  material_6  material_7  \\\n",
       "2017-01-10 08:00:00.011109      -80.68      -88.97      -79.91      -97.57   \n",
       "2017-01-10 08:00:10.011109        0.00      -82.57      -85.74        0.00   \n",
       "2017-01-10 08:00:20.011109      -90.38      -95.52        0.00      -81.07   \n",
       "2017-01-10 08:00:30.011109      -87.55      -83.27      -82.17        0.00   \n",
       "2017-01-10 08:00:40.011109      -98.86      -83.05      -92.96      -87.35   \n",
       "\n",
       "                            material_8  material_9  material_10  teacher_3  \n",
       "2017-01-10 08:00:00.011109      -83.39        0.00         0.00     -92.53  \n",
       "2017-01-10 08:00:10.011109      -87.04      -96.12       -96.38    -103.26  \n",
       "2017-01-10 08:00:20.011109        0.00        0.00       -89.52    -100.01  \n",
       "2017-01-10 08:00:30.011109        0.00        0.00         0.00     -88.36  \n",
       "2017-01-10 08:00:40.011109      -88.62        0.00       -93.31       0.00  "
      ]
     },
     "execution_count": 3,
     "metadata": {},
     "output_type": "execute_result"
    }
   ],
   "source": [
    "data3d[0,:,0]\n",
    "time_idx = [parser.parse(x) for x in data['timestamps']]\n",
    "columns = [\"%s_%d\" % (x[0], x[1]) for x in data['entities']]\n",
    "df = pd.DataFrame(data3d[0,:,:], index=time_idx, columns=columns)\n",
    "df.head()"
   ]
  },
  {
   "cell_type": "code",
   "execution_count": 53,
   "metadata": {
    "collapsed": false
   },
   "outputs": [
    {
     "data": {
      "text/plain": [
       "<matplotlib.collections.PathCollection at 0x119a5b8d0>"
      ]
     },
     "execution_count": 53,
     "metadata": {},
     "output_type": "execute_result"
    },
    {
     "data": {
      "image/png": "[encoded data removed]",
      "text/plain": [
       "<matplotlib.figure.Figure at 0x119978950>"
      ]
     },
     "metadata": {},
     "output_type": "display_data"
    }
   ],
   "source": [
    "ar = df['child_2']\n",
    "\n",
    "fig, ax = plt.subplots(figsize=(15, 1))\n",
    "ax.set_xlim([time_idx[400], time_idx[-400]])\n",
    "\n",
    "ax.scatter(time_idx, len(ar) * [0], c=ar.values, alpha=0.5, marker='.', cmap='Blues', s=[150]*len(ar))"
   ]
  },
  {
   "cell_type": "code",
   "execution_count": 38,
   "metadata": {
    "collapsed": false
   },
   "outputs": [
    {
     "data": {
      "text/plain": [
       "1033"
      ]
     },
     "execution_count": 38,
     "metadata": {},
     "output_type": "execute_result"
    }
   ],
   "source": [
    "len(time_idx)"
   ]
  }
 ],
 "metadata": {
  "kernelspec": {
   "display_name": "Python 2",
   "language": "python",
   "name": "python2"
  },
  "language_info": {
   "codemirror_mode": {
    "name": "ipython",
    "version": 2
   },
   "file_extension": ".py",
   "mimetype": "text/x-python",
   "name": "python",
   "nbconvert_exporter": "python",
   "pygments_lexer": "ipython2",
   "version": "2.7.11"
  }
 },
 "nbformat": 4,
 "nbformat_minor": 0
}
